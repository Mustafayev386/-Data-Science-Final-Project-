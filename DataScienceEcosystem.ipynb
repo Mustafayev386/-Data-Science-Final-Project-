{
 "cells": [
  {
   "cell_type": "markdown",
   "id": "1a9f866f",
   "metadata": {},
   "source": [
    "# Data Science Final Project :"
   ]
  },
  {
   "cell_type": "markdown",
   "id": "3bca03ae",
   "metadata": {},
   "source": [
    "## Introduction :\n",
    "\n",
    "In this project, I will test what I have learned during this course.\n"
   ]
  },
  {
   "cell_type": "markdown",
   "id": "d67c321e",
   "metadata": {},
   "source": [
    "## Data Science Programming Languages :\n",
    "\n",
    "The following programming languages are commonly used in data science:\n",
    "\n",
    " - Python  \n",
    " - R  \n",
    " - SQL  \n",
    " - Java  \n",
    " - C++\n",
    " - Scala\n",
    " - Javascript\n",
    " - Php\n",
    " - Go\n",
    " - Ruby\n",
    " - Visual Basic\n",
    " - Julia\n"
   ]
  },
  {
   "cell_type": "markdown",
   "id": "6b913e16",
   "metadata": {},
   "source": [
    "## Data Science Libraries :\n",
    "\n",
    "Commonly used libraries in data science:\n",
    "\n",
    "- NumPy  \n",
    "- Pandas  \n",
    "- Matplotlib  \n",
    "- Seaborn  \n",
    "- Scikit-learn\n",
    "- Keras\n",
    "- TensorFlow\n",
    "- Pytorch\n",
    "- Vegas\n",
    "- Ggplotr\n",
    "- Apache - Spark"
   ]
  },
  {
   "cell_type": "markdown",
   "id": "b64af564",
   "metadata": {},
   "source": [
    "## Data Science Tools\n",
    "\n",
    "Below is a table listing some commonly used tools in data science:\n",
    "\n",
    "| Tool Name          | Description                    |\n",
    "|--------------------|--------------------------------|\n",
    "| Anaconda           | A distribution for Python and R for scientific computing and data science |\n",
    "| Jupyter Notebooks  | An open-source web application to create and share documents with live code |\n",
    "| RStudio            | An integrated development environment (IDE) for R |\n",
    "| Spyder             | A powerful IDE for scientific programming in Python |\n",
    "| Apache Zeppelin    | A web-based notebook for data analytics and visualization |"
   ]
  },
  {
   "cell_type": "markdown",
   "id": "230b7d02",
   "metadata": {},
   "source": [
    "## Arithmetic Expression Examples\n",
    "\n",
    "In this section, I will show examples of arithmetic expressions in Python.\n",
    "\n",
    "Arithmetic expressions are used to perform basic mathematical operations like addition, subtraction, multiplication, and division.\n",
    "\n",
    "**Examples:**\n",
    "\n",
    "- `5 + 3` → Adds 5 and 3  \n",
    "- `10 - 4` → Subtracts 4 from 10  \n",
    "- `6 * 2` → Multiplies 6 by 2  \n",
    "- `8 / 2` → Divides 8 by 2  \n",
    "- `(4 + 6) * 2` → Adds 4 and 6, then multiplies the result by 2\n"
   ]
  },
  {
   "cell_type": "markdown",
   "id": "95002b9f",
   "metadata": {},
   "source": []
  },
  {
   "cell_type": "code",
   "execution_count": 1,
   "id": "1bf55ce5",
   "metadata": {},
   "outputs": [
    {
     "name": "stdout",
     "output_type": "stream",
     "text": [
      "Multiplication: 3848\n",
      "Addition: 126\n"
     ]
    }
   ],
   "source": [
    "## Numbers multiplication and addition example :\n",
    "\n",
    "a = 74\n",
    "b = 52\n",
    "\n",
    "multiplication = a * b\n",
    "addition = a + b\n",
    "\n",
    "print(\"Multiplication:\", multiplication)\n",
    "print(\"Addition:\", addition)\n"
   ]
  },
  {
   "cell_type": "code",
   "execution_count": 2,
   "id": "ec4ace34",
   "metadata": {},
   "outputs": [
    {
     "name": "stdout",
     "output_type": "stream",
     "text": [
      "250 minutes is equal to 4 hour(s) and 10 minute(s).\n"
     ]
    }
   ],
   "source": [
    "## Convert minutes to hours and minutes\n",
    "\n",
    "total_minutes = 250\n",
    "hours = total_minutes // 60\n",
    "minutes = total_minutes % 60\n",
    "\n",
    "print(f\"{total_minutes} minutes is equal to {hours} hour(s) and {minutes} minute(s).\")\n"
   ]
  },
  {
   "cell_type": "markdown",
   "id": "bfff70c4",
   "metadata": {},
   "source": [
    "## Project Objectives :\n",
    "\n",
    "The goals of this project are:\n",
    "\n",
    "- To understand the fundamental tools used in data science  \n",
    "- To practice programming in Python  \n",
    "- To learn how to create and format Jupyter notebooks  \n",
    "- To share work publicly on GitHub  \n",
    "- To collaborate and provide peer feedback  \n"
   ]
  },
  {
   "cell_type": "markdown",
   "id": "36790d6f",
   "metadata": {},
   "source": []
  },
  {
   "cell_type": "markdown",
   "id": "6c4c62da",
   "metadata": {},
   "source": [
    "## Author :\n",
    "\n",
    "Mustafayev Taleh\n"
   ]
  }
 ],
 "metadata": {
  "kernelspec": {
   "display_name": "base",
   "language": "python",
   "name": "python3"
  },
  "language_info": {
   "codemirror_mode": {
    "name": "ipython",
    "version": 3
   },
   "file_extension": ".py",
   "mimetype": "text/x-python",
   "name": "python",
   "nbconvert_exporter": "python",
   "pygments_lexer": "ipython3",
   "version": "3.12.7"
  }
 },
 "nbformat": 4,
 "nbformat_minor": 5
}
