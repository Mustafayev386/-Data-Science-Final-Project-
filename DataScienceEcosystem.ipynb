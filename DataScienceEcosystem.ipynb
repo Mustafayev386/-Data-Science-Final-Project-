{
 "cells": [
  {
   "cell_type": "markdown",
   "id": "1a9f866f",
   "metadata": {},
   "source": [
    "# Data Science Final Project :"
   ]
  },
  {
   "cell_type": "markdown",
   "id": "3bca03ae",
   "metadata": {},
   "source": [
    "## Introduction :\n",
    "\n",
    "In this project, I will test what I have learned during this course.\n"
   ]
  },
  {
   "cell_type": "markdown",
   "id": "d67c321e",
   "metadata": {},
   "source": [
    "## Data Science Programming Languages :\n",
    "\n",
    "The following programming languages are commonly used in data science:\n",
    "\n",
    " - Python  \n",
    " - R  \n",
    " - SQL  \n",
    " - Java  \n",
    " - C++"
   ]
  },
  {
   "cell_type": "markdown",
   "id": "6b913e16",
   "metadata": {},
   "source": [
    "## Data Science Libraries :\n",
    "\n",
    "Commonly used libraries in data science:\n",
    "\n",
    "- NumPy  \n",
    "- Pandas  \n",
    "- Matplotlib  \n",
    "- Seaborn  \n",
    "- Scikit-learn"
   ]
  },
  {
   "cell_type": "markdown",
   "id": "fdb042c3",
   "metadata": {},
   "source": [
    "## Data Science Tools :\n",
    "Here are some common tools used in data science:\n",
    "\n",
    "| Tool         | Description                       |\n",
    "|--------------|-----------------------------------|\n",
    "| Jupyter      | An interactive computing tool     |\n",
    "| RStudio      | An IDE mainly for R programming   |\n",
    "| VS Code      | A popular code editor             |\n"
   ]
  },
  {
   "cell_type": "markdown",
   "id": "8ff9c3ec",
   "metadata": {},
   "source": [
    "## Arithmetic Expressions :\n",
    "\n",
    "Arithmetic expressions are mathematical statements that perform operations like addition, subtraction, multiplication, and division.\n",
    "\n",
    "Examples of arithmetic expressions:\n",
    "\n",
    "- Addition: 3 + 5 = 8  \n",
    "- Subtraction: 10 - 4 = 6  \n",
    "- Multiplication: 7 * 2 = 14  \n",
    "- Division: 20 / 4 = 5\n"
   ]
  },
  {
   "cell_type": "markdown",
   "id": "95002b9f",
   "metadata": {},
   "source": []
  },
  {
   "cell_type": "code",
   "execution_count": 20,
   "id": "1bf55ce5",
   "metadata": {},
   "outputs": [
    {
     "name": "stdout",
     "output_type": "stream",
     "text": [
      "Multiplication: 396340\n",
      "Addition: 1277\n"
     ]
    }
   ],
   "source": [
    "## Numbers multiplication and addition example :\n",
    "\n",
    "a = 745\n",
    "b = 532\n",
    "\n",
    "multiplication = a * b\n",
    "addition = a + b\n",
    "\n",
    "print(\"Multiplication:\", multiplication)\n",
    "print(\"Addition:\", addition)\n"
   ]
  },
  {
   "cell_type": "code",
   "execution_count": 21,
   "id": "ec4ace34",
   "metadata": {},
   "outputs": [
    {
     "name": "stdout",
     "output_type": "stream",
     "text": [
      "1918 minutes is equal to 31 hour(s) and 58 minute(s).\n"
     ]
    }
   ],
   "source": [
    "## Convert minutes to hours and minutes\n",
    "\n",
    "total_minutes = 1918\n",
    "hours = total_minutes // 60\n",
    "minutes = total_minutes % 60\n",
    "\n",
    "print(f\"{total_minutes} minutes is equal to {hours} hour(s) and {minutes} minute(s).\")\n"
   ]
  },
  {
   "cell_type": "markdown",
   "id": "bfff70c4",
   "metadata": {},
   "source": [
    "## Project Objectives :\n",
    "\n",
    "The goals of this project are:\n",
    "\n",
    "- To understand the fundamental tools used in data science  \n",
    "- To practice programming in Python  \n",
    "- To learn how to create and format Jupyter notebooks  \n",
    "- To share work publicly on GitHub  \n",
    "- To collaborate and provide peer feedback  \n"
   ]
  },
  {
   "cell_type": "markdown",
   "id": "36790d6f",
   "metadata": {},
   "source": []
  },
  {
   "cell_type": "markdown",
   "id": "6c4c62da",
   "metadata": {},
   "source": [
    "## Author :\n",
    "\n",
    "Mustafayev Taleh\n"
   ]
  }
 ],
 "metadata": {
  "kernelspec": {
   "display_name": "base",
   "language": "python",
   "name": "python3"
  },
  "language_info": {
   "codemirror_mode": {
    "name": "ipython",
    "version": 3
   },
   "file_extension": ".py",
   "mimetype": "text/x-python",
   "name": "python",
   "nbconvert_exporter": "python",
   "pygments_lexer": "ipython3",
   "version": "3.12.7"
  }
 },
 "nbformat": 4,
 "nbformat_minor": 5
}
